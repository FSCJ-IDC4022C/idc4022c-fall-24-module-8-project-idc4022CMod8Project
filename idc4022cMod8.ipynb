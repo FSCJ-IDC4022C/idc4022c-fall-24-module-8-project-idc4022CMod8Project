{
  "cells": [
    {
      "cell_type": "code",
      "execution_count": null,
      "metadata": {
        "collapsed": true,
        "id": "JrvVmGv-Y16H"
      },
      "outputs": [],
      "source": [
        "import pandas as pd\n",
        "import numpy as np\n",
        "%matplotlib inline\n",
        "import matplotlib.pyplot as plt\n",
        "import matplotlib.lines as mlines\n",
        "from mpl_toolkits.mplot3d import Axes3D\n",
        "import seaborn as sns\n",
        "from sklearn.model_selection import train_test_split, learning_curve\n",
        "from sklearn.metrics import average_precision_score\n",
        "from xgboost.sklearn import XGBClassifier\n",
        "from xgboost import plot_importance, to_graphviz\n",
        "from tqdm import tqdm"
      ]
    },
    {
      "cell_type": "code",
      "execution_count": null,
      "metadata": {
        "collapsed": true,
        "id": "4_W36yM7Y16I"
      },
      "outputs": [],
      "source": [
        "def plot_confusion_matrix(cm,\n",
        "                          target_names,\n",
        "                          title='Confusion matrix',\n",
        "                          cmap=None,\n",
        "                          normalize=True):\n",
        "    \"\"\"\n",
        "    given a sklearn confusion matrix (cm), make a nice plot\n",
        "\n",
        "    Arguments\n",
        "    ---------\n",
        "    cm:           confusion matrix from sklearn.metrics.confusion_matrix\n",
        "\n",
        "    target_names: given classification classes such as [0, 1, 2]\n",
        "                  the class names, for example: ['high', 'medium', 'low']\n",
        "\n",
        "    title:        the text to display at the top of the matrix\n",
        "\n",
        "    cmap:         the gradient of the values displayed from matplotlib.pyplot.cm\n",
        "                  see http://matplotlib.org/examples/color/colormaps_reference.html\n",
        "                  plt.get_cmap('jet') or plt.cm.Blues\n",
        "\n",
        "    normalize:    If False, plot the raw numbers\n",
        "                  If True, plot the proportions\n",
        "\n",
        "    Usage\n",
        "    -----\n",
        "    plot_confusion_matrix(cm           = cm,                  # confusion matrix created by\n",
        "                                                              # sklearn.metrics.confusion_matrix\n",
        "                          normalize    = True,                # show proportions\n",
        "                          target_names = y_labels_vals,       # list of names of the classes\n",
        "                          title        = best_estimator_name) # title of graph\n",
        "\n",
        "    Citiation\n",
        "    ---------\n",
        "    http://scikit-learn.org/stable/auto_examples/model_selection/plot_confusion_matrix.html\n",
        "\n",
        "    \"\"\"\n",
        "    import matplotlib.pyplot as plt\n",
        "    import numpy as np\n",
        "    import itertools\n",
        "\n",
        "    accuracy = np.trace(cm) / float(np.sum(cm))\n",
        "    misclass = 1 - accuracy\n",
        "\n",
        "    if cmap is None:\n",
        "        cmap = plt.get_cmap('Blues')\n",
        "\n",
        "    plt.figure(figsize=(8, 6))\n",
        "    plt.imshow(cm, interpolation='nearest', cmap=cmap)\n",
        "    plt.title(title)\n",
        "    plt.colorbar()\n",
        "\n",
        "    if target_names is not None:\n",
        "        tick_marks = np.arange(len(target_names))\n",
        "        plt.xticks(tick_marks, target_names, rotation=45)\n",
        "        plt.yticks(tick_marks, target_names)\n",
        "\n",
        "    if normalize:\n",
        "        cm = cm.astype('float') / cm.sum(axis=1)[:, np.newaxis]\n",
        "\n",
        "\n",
        "    thresh = cm.max() / 1.5 if normalize else cm.max() / 2\n",
        "    for i, j in itertools.product(range(cm.shape[0]), range(cm.shape[1])):\n",
        "        if normalize:\n",
        "            plt.text(j, i, \"{:0.4f}\".format(cm[i, j]),\n",
        "                     horizontalalignment=\"center\",\n",
        "                     color=\"white\" if cm[i, j] > thresh else \"black\")\n",
        "        else:\n",
        "            plt.text(j, i, \"{:,}\".format(cm[i, j]),\n",
        "                     horizontalalignment=\"center\",\n",
        "                     color=\"white\" if cm[i, j] > thresh else \"black\")\n",
        "\n",
        "\n",
        "    plt.tight_layout()\n",
        "    plt.ylabel('True label')\n",
        "    plt.xlabel('Predicted label\\naccuracy={:0.4f}; misclass={:0.4f}'.format(accuracy, misclass))\n",
        "    plt.savefig('confusion.png')\n",
        "    plt.show()"
      ]
    },
    {
      "cell_type": "code",
      "execution_count": null,
      "metadata": {
        "collapsed": true,
        "id": "hopOEAvWY16I"
      },
      "outputs": [],
      "source": [
        "df = pd.read_csv('/content/idc4022cMod8Data.csv')\n",
        "df = df.rename(columns={'oldbalanceOrg':'oldBalanceOrig', 'newbalanceOrig':'newBalanceOrig', \\\n",
        "                        'oldbalanceDest':'oldBalanceDest', 'newbalanceDest':'newBalanceDest'})"
      ]
    },
    {
      "cell_type": "code",
      "execution_count": null,
      "metadata": {
        "id": "zIB2lt97Y16I"
      },
      "outputs": [],
      "source": [
        "df.head()"
      ]
    },
    {
      "cell_type": "code",
      "execution_count": null,
      "metadata": {
        "id": "L3aPXyGZY16J"
      },
      "outputs": [],
      "source": [
        "df.loc[df.isFraud == 1].type.drop_duplicates().values"
      ]
    },
    {
      "cell_type": "code",
      "execution_count": null,
      "metadata": {
        "collapsed": true,
        "id": "sxrhJVXzY16J"
      },
      "outputs": [],
      "source": [
        "df = df[(df.type == 'TRANSFER') | (df.type == 'CASH_OUT')]"
      ]
    },
    {
      "cell_type": "code",
      "execution_count": null,
      "metadata": {
        "id": "38TrnqNsY16J"
      },
      "outputs": [],
      "source": [
        "len(df)"
      ]
    },
    {
      "cell_type": "code",
      "execution_count": null,
      "metadata": {
        "id": "TCovVhsqY16K"
      },
      "outputs": [],
      "source": [
        "df.loc[(df.isFraud == 1) & (df.type == 'TRANSFER')].amount.median()"
      ]
    },
    {
      "cell_type": "code",
      "execution_count": null,
      "metadata": {
        "id": "HjealvWWY16K"
      },
      "outputs": [],
      "source": [
        "df.loc[(df.isFraud == 0) & (df.type == 'TRANSFER')].amount.median()"
      ]
    },
    {
      "cell_type": "code",
      "execution_count": null,
      "metadata": {
        "collapsed": true,
        "id": "BDKWh7GOY16K"
      },
      "outputs": [],
      "source": [
        "df['Fraud_Heuristic'] = np.where(((df['type'] == 'TRANSFER') &\n",
        "                                  (df['amount'] > 200000)),1,0)"
      ]
    },
    {
      "cell_type": "code",
      "execution_count": null,
      "metadata": {
        "id": "MoBtidasY16K"
      },
      "outputs": [],
      "source": [
        "df['Fraud_Heuristic'].sum()"
      ]
    },
    {
      "cell_type": "code",
      "execution_count": null,
      "metadata": {
        "collapsed": true,
        "id": "xT9zobXaY16L"
      },
      "outputs": [],
      "source": [
        "from sklearn.metrics import f1_score"
      ]
    },
    {
      "cell_type": "code",
      "execution_count": null,
      "metadata": {
        "id": "y1Q469LzY16L"
      },
      "outputs": [],
      "source": [
        "f1_score(y_pred=df['Fraud_Heuristic'],y_true=df['isFraud'])"
      ]
    },
    {
      "cell_type": "code",
      "execution_count": null,
      "metadata": {
        "collapsed": true,
        "id": "bH35-WlrY16L"
      },
      "outputs": [],
      "source": [
        "from sklearn.metrics import confusion_matrix"
      ]
    },
    {
      "cell_type": "code",
      "execution_count": null,
      "metadata": {
        "collapsed": true,
        "id": "92pda16SY16L"
      },
      "outputs": [],
      "source": [
        "cm = confusion_matrix(y_pred=df['Fraud_Heuristic'],y_true=df['isFraud'])"
      ]
    },
    {
      "cell_type": "code",
      "execution_count": null,
      "metadata": {
        "id": "-J7qpsvFY16L"
      },
      "outputs": [],
      "source": [
        "plot_confusion_matrix(cm,['Genuine','Fraud'], normalize=False)"
      ]
    },
    {
      "cell_type": "code",
      "execution_count": null,
      "metadata": {
        "id": "CKUPKVqVY16L"
      },
      "outputs": [],
      "source": [
        "df.shape"
      ]
    },
    {
      "cell_type": "code",
      "execution_count": null,
      "metadata": {
        "collapsed": true,
        "id": "BWGH16hcY16L"
      },
      "outputs": [],
      "source": [
        "df['hour'] = df['step'] % 24"
      ]
    },
    {
      "cell_type": "code",
      "execution_count": null,
      "metadata": {
        "collapsed": true,
        "id": "dNXzBJycY16L"
      },
      "outputs": [],
      "source": [
        "frauds = []\n",
        "genuine = []\n",
        "for i in range(24):\n",
        "    f = len(df[(df['hour'] == i) & (df['isFraud'] == 1)])\n",
        "    g = len(df[(df['hour'] == i) & (df['isFraud'] == 0)])\n",
        "    frauds.append(f)\n",
        "    genuine.append(g)"
      ]
    },
    {
      "cell_type": "code",
      "execution_count": null,
      "metadata": {
        "collapsed": true,
        "id": "Lkqimk_7Y16L"
      },
      "outputs": [],
      "source": []
    },
    {
      "cell_type": "code",
      "execution_count": null,
      "metadata": {
        "id": "yjOHaQanY16L"
      },
      "outputs": [],
      "source": [
        "sns.set_style(\"white\")\n",
        "\n",
        "fig, ax = plt.subplots(figsize=(10,6))\n",
        "gen = ax.plot(genuine/np.sum(genuine), label='Genuine')\n",
        "fr = ax.plot(frauds/np.sum(frauds),dashes=[5, 2], label='Fraud')\n",
        "#frgen = ax.plot(np.devide(frauds,genuine),dashes=[1, 1], label='Fraud vs Genuine')\n",
        "plt.xticks(np.arange(24))\n",
        "legend = ax.legend(loc='upper center', shadow=True)\n",
        "fig.savefig('time.png')"
      ]
    },
    {
      "cell_type": "code",
      "execution_count": null,
      "metadata": {
        "id": "4xTvzXa7Y16M"
      },
      "outputs": [],
      "source": [
        "sns.set_style(\"white\")\n",
        "\n",
        "fig, ax = plt.subplots(figsize=(10,6))\n",
        "#gen = ax.plot(genuine/np.sum(genuine), label='Genuine')\n",
        "#fr = ax.plot(frauds/np.sum(frauds),dashes=[5, 2], label='Fraud')\n",
        "frgen = ax.plot(np.divide(frauds,np.add(genuine,frauds)), label='Share of fraud')\n",
        "plt.xticks(np.arange(24))\n",
        "legend = ax.legend(loc='upper center', shadow=True)\n",
        "fig.savefig('time_comp.png')"
      ]
    },
    {
      "cell_type": "code",
      "execution_count": null,
      "metadata": {
        "collapsed": true,
        "id": "f2S_kO2iY16M"
      },
      "outputs": [],
      "source": [
        "dfFraudTransfer = df[(df.isFraud == 1) & (df.type == 'TRANSFER')]"
      ]
    },
    {
      "cell_type": "code",
      "execution_count": null,
      "metadata": {
        "collapsed": true,
        "id": "uMWSifLTY16M"
      },
      "outputs": [],
      "source": [
        "dfFraudCashOut = df[(df.isFraud == 1) & (df.type == 'CASH_OUT')]"
      ]
    },
    {
      "cell_type": "code",
      "execution_count": null,
      "metadata": {
        "id": "WGytXKjiY16M"
      },
      "outputs": [],
      "source": [
        "dfFraudTransfer.nameDest.isin(dfFraudCashOut.nameOrig).any()"
      ]
    },
    {
      "cell_type": "code",
      "execution_count": null,
      "metadata": {
        "collapsed": true,
        "id": "S4w9dzexY16M"
      },
      "outputs": [],
      "source": [
        "dfNotFraud = df[(df.isFraud == 0)]"
      ]
    },
    {
      "cell_type": "code",
      "execution_count": null,
      "metadata": {
        "collapsed": true,
        "id": "gEXufHVLY16M"
      },
      "outputs": [],
      "source": [
        "dfFraud = df[(df.isFraud == 1)]"
      ]
    },
    {
      "cell_type": "code",
      "execution_count": null,
      "metadata": {
        "id": "gFnH1NYSY16M"
      },
      "outputs": [],
      "source": [
        "dfFraudTransfer.loc[dfFraudTransfer.nameDest.isin(\n",
        "    dfNotFraud.loc[dfNotFraud.type == 'CASH_OUT'].nameOrig.drop_duplicates())]"
      ]
    },
    {
      "cell_type": "code",
      "execution_count": null,
      "metadata": {
        "id": "BD-xPL61Y16M"
      },
      "outputs": [],
      "source": [
        "len(dfFraud[(dfFraud.oldBalanceDest == 0) & (dfFraud.newBalanceDest == 0) & (dfFraud.amount)]) / (1.0 * len(dfFraud))"
      ]
    },
    {
      "cell_type": "code",
      "execution_count": null,
      "metadata": {
        "id": "Q4fH3Js8Y16M"
      },
      "outputs": [],
      "source": [
        "len(dfNotFraud[(dfNotFraud.oldBalanceDest == 0) & (dfNotFraud.newBalanceDest == 0) & (dfNotFraud.amount)]) / (1.0 * len(dfNotFraud))"
      ]
    },
    {
      "cell_type": "code",
      "execution_count": null,
      "metadata": {
        "collapsed": true,
        "id": "sdq9H_sCY16N"
      },
      "outputs": [],
      "source": [
        "dfOdd = df[(df.oldBalanceDest == 0) &\n",
        "           (df.newBalanceDest == 0) &\n",
        "           (df.amount)]"
      ]
    },
    {
      "cell_type": "code",
      "execution_count": null,
      "metadata": {
        "id": "UKtbOtihY16N"
      },
      "outputs": [],
      "source": [
        "len(dfOdd[(dfOdd.isFraud == 1)]) / len(dfOdd)"
      ]
    },
    {
      "cell_type": "code",
      "execution_count": null,
      "metadata": {
        "id": "pbJcz5nqY16N"
      },
      "outputs": [],
      "source": [
        "len(dfOdd[(dfOdd.oldBalanceOrig <= dfOdd.amount)]) / len(dfOdd)"
      ]
    },
    {
      "cell_type": "code",
      "execution_count": null,
      "metadata": {
        "id": "AcDzHy-zY16N"
      },
      "outputs": [],
      "source": [
        "len(dfOdd[(dfOdd.oldBalanceOrig <= dfOdd.amount) & (dfOdd.isFraud == 1)]) / len(dfOdd[(dfOdd.isFraud == 1)])"
      ]
    },
    {
      "cell_type": "code",
      "execution_count": null,
      "metadata": {
        "id": "mXKx3s5tY16N"
      },
      "outputs": [],
      "source": [
        "dfOdd.columns"
      ]
    },
    {
      "cell_type": "code",
      "execution_count": null,
      "metadata": {
        "id": "9lxMggNYY16N"
      },
      "outputs": [],
      "source": [
        "dfOdd.head(20)"
      ]
    },
    {
      "cell_type": "code",
      "execution_count": null,
      "metadata": {
        "id": "yjfpaEQRY16N"
      },
      "outputs": [],
      "source": [
        "df.head()"
      ]
    },
    {
      "cell_type": "code",
      "execution_count": null,
      "metadata": {
        "collapsed": true,
        "id": "_2vigqHNY16N"
      },
      "outputs": [],
      "source": [
        "df['type'] = 'type_' + df['type'].astype(str)"
      ]
    },
    {
      "cell_type": "code",
      "execution_count": null,
      "metadata": {
        "collapsed": true,
        "id": "HVVZX5RzY16X"
      },
      "outputs": [],
      "source": [
        "# Get dummies\n",
        "dummies = pd.get_dummies(df['type'])\n",
        "\n",
        "# Add dummies to df\n",
        "df = pd.concat([df,dummies],axis=1)\n",
        "\n",
        "#remove original column\n",
        "del df['type']"
      ]
    },
    {
      "cell_type": "markdown",
      "metadata": {
        "id": "HXMdL-cKY16X"
      },
      "source": [
        "Predictive modeling with Keras"
      ]
    },
    {
      "cell_type": "code",
      "execution_count": null,
      "metadata": {
        "id": "hkSnV9PJY16Y"
      },
      "outputs": [],
      "source": [
        "df = df.drop(['nameOrig','nameDest','Fraud_Heuristic'], axis= 1)"
      ]
    },
    {
      "cell_type": "code",
      "execution_count": null,
      "metadata": {
        "id": "a8L-M_GHY16Y"
      },
      "outputs": [],
      "source": [
        "df['isNight'] = np.where((2 <= df['hour']) & (df['hour'] <= 6), 1,0)"
      ]
    },
    {
      "cell_type": "code",
      "execution_count": null,
      "metadata": {
        "id": "il2SV3rFY16Y"
      },
      "outputs": [],
      "source": [
        "df[df['isNight'] == 1].isFraud.mean()"
      ]
    },
    {
      "cell_type": "code",
      "execution_count": null,
      "metadata": {
        "id": "_4CxZ--xY16Y"
      },
      "outputs": [],
      "source": [
        "df.head()"
      ]
    },
    {
      "cell_type": "code",
      "execution_count": null,
      "metadata": {
        "id": "t16FAly4Y16Y"
      },
      "outputs": [],
      "source": [
        "df = df.drop(['step','hour'],axis=1)"
      ]
    },
    {
      "cell_type": "code",
      "execution_count": null,
      "metadata": {
        "id": "Di-M8aPtY16Z"
      },
      "outputs": [],
      "source": [
        "df.head()"
      ]
    },
    {
      "cell_type": "code",
      "execution_count": null,
      "metadata": {
        "id": "1eoJokZgY16Z"
      },
      "outputs": [],
      "source": [
        "df.columns.values"
      ]
    },
    {
      "cell_type": "code",
      "execution_count": null,
      "metadata": {
        "id": "Felsu5daY16Z"
      },
      "outputs": [],
      "source": [
        "y_df = df['isFraud']\n",
        "x_df = df.drop('isFraud',axis=1)"
      ]
    },
    {
      "cell_type": "code",
      "execution_count": null,
      "metadata": {
        "collapsed": true,
        "id": "mzdhrI77Y16Z"
      },
      "outputs": [],
      "source": [
        "y = y_df.values\n",
        "X = x_df.values"
      ]
    },
    {
      "cell_type": "code",
      "execution_count": null,
      "metadata": {
        "id": "zbr5GtDNY16Z"
      },
      "outputs": [],
      "source": [
        "y.shape"
      ]
    },
    {
      "cell_type": "code",
      "execution_count": null,
      "metadata": {
        "id": "_62Xw35lY16Z"
      },
      "outputs": [],
      "source": [
        "X.shape"
      ]
    },
    {
      "cell_type": "code",
      "execution_count": null,
      "metadata": {
        "collapsed": true,
        "id": "mydOc_gwY16Z"
      },
      "outputs": [],
      "source": [
        "from sklearn.model_selection import train_test_split"
      ]
    },
    {
      "cell_type": "code",
      "execution_count": null,
      "metadata": {
        "collapsed": true,
        "id": "Seu4EiBsY16Z"
      },
      "outputs": [],
      "source": [
        "X_train, X_test, y_train, y_test = train_test_split(X, y,\n",
        "                                                    test_size=0.33,\n",
        "                                                    random_state=42)"
      ]
    },
    {
      "cell_type": "code",
      "execution_count": null,
      "metadata": {
        "collapsed": true,
        "id": "9pLdqvWiY16a"
      },
      "outputs": [],
      "source": [
        "X_train, X_val, y_train, y_val = train_test_split(X_train, y_train,\n",
        "                                                    test_size=0.1,\n",
        "                                                    random_state=42)"
      ]
    },
    {
      "cell_type": "code",
      "execution_count": null,
      "metadata": {
        "collapsed": true,
        "id": "H4XD_bd3Y16a"
      },
      "outputs": [],
      "source": [
        "from imblearn.over_sampling import SMOTE, RandomOverSampler"
      ]
    },
    {
      "cell_type": "code",
      "execution_count": null,
      "metadata": {
        "id": "I4jGF5MwY16a"
      },
      "outputs": [],
      "source": [
        "sm = SMOTE(random_state=42)\n",
        "X_train_res, y_train_res = sm.fit_resample(X_train, y_train)"
      ]
    },
    {
      "cell_type": "code",
      "execution_count": null,
      "metadata": {
        "collapsed": true,
        "id": "ruCJy3DfY16a"
      },
      "outputs": [],
      "source": [
        "from keras.models import Sequential\n",
        "from keras.layers import Dense, Activation\n",
        "from keras.optimizers import SGD"
      ]
    },
    {
      "cell_type": "code",
      "execution_count": null,
      "metadata": {
        "collapsed": true,
        "id": "3ptukuCCY16a"
      },
      "outputs": [],
      "source": [
        "# Log reg\n",
        "model = Sequential()\n",
        "model.add(Dense(1, input_dim=9))\n",
        "model.add(Activation('sigmoid'))"
      ]
    },
    {
      "cell_type": "code",
      "execution_count": null,
      "metadata": {
        "id": "6KD9CjXXY16a"
      },
      "outputs": [],
      "source": [
        "model.summary()"
      ]
    },
    {
      "cell_type": "code",
      "execution_count": null,
      "metadata": {
        "collapsed": true,
        "id": "kvPfTEMHY16b"
      },
      "outputs": [],
      "source": [
        "model.compile(loss='binary_crossentropy',\n",
        "              optimizer=SGD(learning_rate=1e-5),\n",
        "              metrics=['acc'])"
      ]
    },
    {
      "cell_type": "code",
      "execution_count": null,
      "metadata": {
        "id": "Wn2-4qcFY16b"
      },
      "outputs": [],
      "source": [
        "model.fit(X_train_res,y_train_res,\n",
        "          epochs=5,\n",
        "          batch_size=256,\n",
        "          validation_data=(X_val,y_val))"
      ]
    },
    {
      "cell_type": "code",
      "execution_count": null,
      "metadata": {
        "collapsed": true,
        "id": "xlMCA3w4Y16b"
      },
      "outputs": [],
      "source": [
        "y_pred = model.predict(X_test)"
      ]
    },
    {
      "cell_type": "code",
      "execution_count": null,
      "metadata": {
        "collapsed": true,
        "id": "-7hkVXKGY16b"
      },
      "outputs": [],
      "source": [
        "y_pred[y_pred > 0.5] = 1\n",
        "y_pred[y_pred < 0.5] = 0"
      ]
    },
    {
      "cell_type": "code",
      "execution_count": null,
      "metadata": {
        "id": "5GFLZAWdY16b"
      },
      "outputs": [],
      "source": [
        "f1_score(y_pred=y_pred,y_true=y_test)"
      ]
    },
    {
      "cell_type": "code",
      "execution_count": null,
      "metadata": {
        "collapsed": true,
        "id": "Fvyc9k3XY16b"
      },
      "outputs": [],
      "source": [
        "cm = confusion_matrix(y_pred=y_pred,y_true=y_test)"
      ]
    },
    {
      "cell_type": "code",
      "execution_count": null,
      "metadata": {
        "id": "bQPE_fS6Y16b",
        "scrolled": true
      },
      "outputs": [],
      "source": [
        "plot_confusion_matrix(cm,['Genuine','Fraud'], normalize=False)"
      ]
    },
    {
      "cell_type": "code",
      "execution_count": null,
      "metadata": {
        "collapsed": true,
        "id": "OLX8RRNpY16b"
      },
      "outputs": [],
      "source": [
        "model = Sequential()\n",
        "model.add(Dense(16,input_dim=9))\n",
        "model.add(Activation('tanh'))\n",
        "model.add(Dense(1))\n",
        "model.add(Activation('sigmoid'))"
      ]
    },
    {
      "cell_type": "code",
      "execution_count": null,
      "metadata": {
        "collapsed": true,
        "id": "08klJSidY16c"
      },
      "outputs": [],
      "source": [
        "model.compile(loss='binary_crossentropy',optimizer=SGD(learning_rate=1e-4), metrics=['acc'])"
      ]
    },
    {
      "cell_type": "code",
      "execution_count": null,
      "metadata": {
        "colab": {
          "background_save": true
        },
        "id": "ZIOjsnmCY16c"
      },
      "outputs": [],
      "source": [
        "model.fit(X_train_res,y_train_res,\n",
        "          epochs=5, batch_size=256,\n",
        "          validation_data=(X_val,y_val))"
      ]
    },
    {
      "cell_type": "code",
      "execution_count": null,
      "metadata": {
        "colab": {
          "background_save": true
        },
        "collapsed": true,
        "id": "NRaErxJEY16c"
      },
      "outputs": [],
      "source": [
        "y_pred = model.predict(X_test)"
      ]
    },
    {
      "cell_type": "code",
      "execution_count": null,
      "metadata": {
        "colab": {
          "background_save": true
        },
        "collapsed": true,
        "id": "SkWDKKTrY16c"
      },
      "outputs": [],
      "source": [
        "y_pred[y_pred > 0.5] = 1\n",
        "y_pred[y_pred < 0.5] = 0"
      ]
    },
    {
      "cell_type": "code",
      "execution_count": null,
      "metadata": {
        "colab": {
          "background_save": true
        },
        "id": "jo3XPeXLY16c"
      },
      "outputs": [],
      "source": [
        "f1_score(y_pred=y_pred,y_true=y_test)"
      ]
    },
    {
      "cell_type": "code",
      "execution_count": null,
      "metadata": {
        "colab": {
          "background_save": true
        },
        "collapsed": true,
        "id": "QTUXKul9Y16c"
      },
      "outputs": [],
      "source": [
        "cm = confusion_matrix(y_pred=y_pred,y_true=y_test)"
      ]
    },
    {
      "cell_type": "code",
      "execution_count": null,
      "metadata": {
        "colab": {
          "background_save": true
        },
        "id": "lXSVAxs4Y16c"
      },
      "outputs": [],
      "source": [
        "plot_confusion_matrix(cm,['Genuine','Fraud'], normalize=False)"
      ]
    },
    {
      "cell_type": "markdown",
      "metadata": {
        "id": "mAmlaF2uY16c"
      },
      "source": [
        "# Tree based methods"
      ]
    },
    {
      "cell_type": "code",
      "execution_count": null,
      "metadata": {
        "colab": {
          "background_save": true
        },
        "collapsed": true,
        "id": "WZz8GxXLY16d"
      },
      "outputs": [],
      "source": [
        "from sklearn.tree import export_graphviz"
      ]
    },
    {
      "cell_type": "code",
      "execution_count": null,
      "metadata": {
        "colab": {
          "background_save": true
        },
        "id": "Cupn6ukVY16d"
      },
      "outputs": [],
      "source": [
        "from sklearn.tree import DecisionTreeClassifier\n",
        "dtree=DecisionTreeClassifier()\n",
        "dtree.fit(X_train,y_train)"
      ]
    },
    {
      "cell_type": "code",
      "execution_count": null,
      "metadata": {
        "id": "1G2It9EvY16d"
      },
      "outputs": [],
      "source": [
        "from six import StringIO\n",
        "from IPython.display import Image\n",
        "from sklearn.tree import export_graphviz\n",
        "from subprocess import check_call\n",
        "from PIL import Image, ImageDraw, ImageFont\n",
        "from IPython.display import Image as PImage\n",
        "\n",
        "#import pydotplus\n",
        "dot_data = StringIO()\n",
        "'''export_graphviz(dtree, out_file=dot_data,\n",
        "                filled=True, rounded=True,\n",
        "                special_characters=True)'''\n",
        "with open(\"tree1.dot\", 'w') as f:\n",
        "     f = export_graphviz(dtree,\n",
        "                              out_file=f,\n",
        "                              max_depth = 3,\n",
        "                              impurity = True,\n",
        "                              feature_names = list(df.drop(['isFraud'], axis=1)),\n",
        "                              class_names = ['Genuine', 'Fraud'],\n",
        "                              rounded = True,\n",
        "                              filled= True )\n",
        "\n",
        "#Convert .dot to .png to allow display in web notebook\n",
        "check_call(['dot','-Tpng','tree1.dot','-o','tree1.png'])\n",
        "\n",
        "# Annotating chart with PIL\n",
        "img = Image.open(\"tree1.png\")\n",
        "draw = ImageDraw.Draw(img)\n",
        "font = ImageFont.truetype('/usr/share/fonts/truetype/liberation/LiberationSerif-Bold.ttf', 26)\n",
        "img.save('sample-out.png')\n",
        "PImage(\"sample-out.png\")\n"
      ]
    },
    {
      "cell_type": "code",
      "execution_count": null,
      "metadata": {
        "collapsed": true,
        "id": "OvfhM9D1Y16d"
      },
      "outputs": [],
      "source": [
        "from sklearn.ensemble import  RandomForestClassifier"
      ]
    },
    {
      "cell_type": "code",
      "execution_count": null,
      "metadata": {
        "id": "ZmSyz7m7Y16d"
      },
      "outputs": [],
      "source": [
        "rf = RandomForestClassifier(n_estimators=10,n_jobs=-1)\n",
        "rf.fit(X_train,y_train)"
      ]
    },
    {
      "cell_type": "code",
      "execution_count": null,
      "metadata": {
        "collapsed": true,
        "id": "dECgOePsY16d"
      },
      "outputs": [],
      "source": [
        "y_pred = rf.predict(X_test)"
      ]
    },
    {
      "cell_type": "code",
      "execution_count": null,
      "metadata": {
        "id": "geEfhnJFY16d"
      },
      "outputs": [],
      "source": [
        "f1_score(y_pred=y_pred,y_true=y_test)"
      ]
    },
    {
      "cell_type": "code",
      "execution_count": null,
      "metadata": {
        "id": "UfdNrLnFY16d"
      },
      "outputs": [],
      "source": [
        "cm = confusion_matrix(y_pred=y_pred,y_true=y_test)\n",
        "plot_confusion_matrix(cm,['Genuine','Fraud'], normalize=False)"
      ]
    },
    {
      "cell_type": "code",
      "execution_count": null,
      "metadata": {
        "collapsed": true,
        "id": "sZY5cTqLY16d"
      },
      "outputs": [],
      "source": [
        "import xgboost as xgb"
      ]
    },
    {
      "cell_type": "code",
      "execution_count": null,
      "metadata": {
        "id": "S4IeMFEyY16e"
      },
      "outputs": [],
      "source": [
        "booster = xgb.XGBClassifier(n_jobs=-1)\n",
        "booster = booster.fit(X_train,y_train)"
      ]
    },
    {
      "cell_type": "code",
      "execution_count": null,
      "metadata": {
        "id": "eTHJdduvY16e"
      },
      "outputs": [],
      "source": [
        "y_pred = booster.predict(X_test)"
      ]
    },
    {
      "cell_type": "code",
      "execution_count": null,
      "metadata": {
        "id": "CH1oaBwiY16e"
      },
      "outputs": [],
      "source": [
        "f1_score(y_pred=y_pred,y_true=y_test)"
      ]
    },
    {
      "cell_type": "code",
      "execution_count": null,
      "metadata": {
        "id": "Z09ZG3wsY16e"
      },
      "outputs": [],
      "source": [
        "cm = confusion_matrix(y_pred=y_pred,y_true=y_test)\n",
        "plot_confusion_matrix(cm,['Genuine','Fraud'], normalize=False)"
      ]
    },
    {
      "cell_type": "markdown",
      "metadata": {
        "collapsed": true,
        "id": "7cKKUHghY16e"
      },
      "source": [
        "# Entity embeddings"
      ]
    },
    {
      "cell_type": "code",
      "execution_count": null,
      "metadata": {
        "collapsed": true,
        "id": "72I_ReO9Y16e"
      },
      "outputs": [],
      "source": [
        "# Reload data\n",
        "df = pd.read_csv('/content/idc4022cMod8Data.csv')\n",
        "df = df.rename(columns={'oldbalanceOrg':'oldBalanceOrig', 'newbalanceOrig':'newBalanceOrig', \\\n",
        "                        'oldbalanceDest':'oldBalanceDest', 'newbalanceDest':'newBalanceDest'})"
      ]
    },
    {
      "cell_type": "code",
      "execution_count": null,
      "metadata": {
        "collapsed": true,
        "id": "fTMscAvLY16e"
      },
      "outputs": [],
      "source": [
        "df.head()"
      ]
    },
    {
      "cell_type": "code",
      "execution_count": null,
      "metadata": {
        "collapsed": true,
        "id": "HlgQ8QWHY16e"
      },
      "outputs": [],
      "source": [
        "df = df.drop(['nameDest','nameOrig','step'],axis=1)"
      ]
    },
    {
      "cell_type": "code",
      "execution_count": null,
      "metadata": {
        "collapsed": true,
        "id": "ygpk3lahY16e"
      },
      "outputs": [],
      "source": [
        "df['type'].unique()"
      ]
    },
    {
      "cell_type": "code",
      "execution_count": null,
      "metadata": {
        "collapsed": true,
        "id": "xOfKL5DcY16e"
      },
      "outputs": [],
      "source": [
        "map_dict = {}\n",
        "for token, value in enumerate(df['type'].unique()):\n",
        "    map_dict[value] = token"
      ]
    },
    {
      "cell_type": "code",
      "execution_count": null,
      "metadata": {
        "collapsed": true,
        "id": "d5njt6T3Y16e"
      },
      "outputs": [],
      "source": [
        "map_dict"
      ]
    },
    {
      "cell_type": "code",
      "execution_count": null,
      "metadata": {
        "collapsed": true,
        "id": "SnrW6XX4Y16f"
      },
      "outputs": [],
      "source": [
        "df[\"type\"].replace(map_dict, inplace=True)"
      ]
    },
    {
      "cell_type": "code",
      "execution_count": null,
      "metadata": {
        "collapsed": true,
        "id": "d6p1OI3IY16f"
      },
      "outputs": [],
      "source": [
        "df.head()"
      ]
    },
    {
      "cell_type": "code",
      "execution_count": null,
      "metadata": {
        "collapsed": true,
        "id": "OZKmP9ZqY16f"
      },
      "outputs": [],
      "source": [
        "other_cols = [c for c in df.columns if ((c != 'type') and (c != 'isFraud'))]"
      ]
    },
    {
      "cell_type": "code",
      "execution_count": null,
      "metadata": {
        "collapsed": true,
        "id": "RA8f4-oBY16f"
      },
      "outputs": [],
      "source": [
        "other_cols"
      ]
    },
    {
      "cell_type": "code",
      "execution_count": null,
      "metadata": {
        "collapsed": true,
        "id": "9cY59bwsY16f"
      },
      "outputs": [],
      "source": [
        "from keras.models import Model\n",
        "from keras.layers import Embedding, Dense, Activation, Reshape, Input, Concatenate"
      ]
    },
    {
      "cell_type": "code",
      "execution_count": null,
      "metadata": {
        "collapsed": true,
        "id": "3ukLGiY1Y16f"
      },
      "outputs": [],
      "source": [
        "num_types = len(df['type'].unique())\n",
        "type_embedding_dim = 3"
      ]
    },
    {
      "cell_type": "code",
      "execution_count": null,
      "metadata": {
        "collapsed": true,
        "id": "YYJcAkJAY16f"
      },
      "outputs": [],
      "source": [
        "inputs = []\n",
        "outputs = []"
      ]
    },
    {
      "cell_type": "code",
      "execution_count": null,
      "metadata": {
        "collapsed": true,
        "id": "2RtJ49_kY16f"
      },
      "outputs": [],
      "source": [
        "type_in = Input(shape=(1,))\n",
        "type_embedding = Embedding(num_types,type_embedding_dim,input_length=1)(type_in)\n",
        "type_out = Reshape(target_shape=(type_embedding_dim,))(type_embedding)\n",
        "\n",
        "type_model = Model(type_in,type_out)\n",
        "\n",
        "inputs.append(type_in)\n",
        "outputs.append(type_out)"
      ]
    },
    {
      "cell_type": "code",
      "execution_count": null,
      "metadata": {
        "collapsed": true,
        "id": "YlRjt6TEY16f"
      },
      "outputs": [],
      "source": [
        "num_rest = len(other_cols)"
      ]
    },
    {
      "cell_type": "code",
      "execution_count": null,
      "metadata": {
        "collapsed": true,
        "id": "B6gP4R7QY16f"
      },
      "outputs": [],
      "source": [
        "rest_in = Input(shape = (num_rest,))\n",
        "rest_out = Dense(16)(rest_in)\n",
        "\n",
        "rest_model = Model(rest_in,rest_out)\n",
        "\n",
        "inputs.append(rest_in)\n",
        "outputs.append(rest_out)"
      ]
    },
    {
      "cell_type": "code",
      "execution_count": null,
      "metadata": {
        "collapsed": true,
        "id": "BFIy-L74Y16f"
      },
      "outputs": [],
      "source": [
        "concatenated = Concatenate()(outputs)"
      ]
    },
    {
      "cell_type": "code",
      "execution_count": null,
      "metadata": {
        "collapsed": true,
        "id": "ZpZVS_wTY16f"
      },
      "outputs": [],
      "source": [
        "x = Dense(16)(concatenated)\n",
        "x = Activation('sigmoid')(x)\n",
        "x = Dense(1)(concatenated)\n",
        "model_out = Activation('sigmoid')(x)"
      ]
    },
    {
      "cell_type": "code",
      "execution_count": null,
      "metadata": {
        "collapsed": true,
        "id": "eEY8eDt8Y16f"
      },
      "outputs": [],
      "source": [
        "merged_model = Model(inputs, model_out)\n",
        "merged_model.compile(loss='binary_crossentropy',\n",
        "                     optimizer='adam',\n",
        "                     metrics=['accuracy'])"
      ]
    },
    {
      "cell_type": "code",
      "execution_count": null,
      "metadata": {
        "collapsed": true,
        "id": "J2MiPAIEY16g"
      },
      "outputs": [],
      "source": [
        "types = df['type']"
      ]
    },
    {
      "cell_type": "code",
      "execution_count": null,
      "metadata": {
        "collapsed": true,
        "id": "GwvDr4E_Y16g"
      },
      "outputs": [],
      "source": [
        "rest = df[other_cols]"
      ]
    },
    {
      "cell_type": "code",
      "execution_count": null,
      "metadata": {
        "collapsed": true,
        "id": "OBLSvsz8Y16g"
      },
      "outputs": [],
      "source": [
        "target = df['isFraud']"
      ]
    },
    {
      "cell_type": "code",
      "execution_count": null,
      "metadata": {
        "collapsed": true,
        "id": "736xOBkdY16g"
      },
      "outputs": [],
      "source": [
        "history = merged_model.fit([types.values,rest.values],target.values,\n",
        "                           epochs = 1, batch_size = 128)"
      ]
    },
    {
      "cell_type": "code",
      "execution_count": null,
      "metadata": {
        "collapsed": true,
        "id": "uHXgEPtCY16g"
      },
      "outputs": [],
      "source": [
        "merged_model.summary()"
      ]
    },
    {
      "cell_type": "code",
      "execution_count": null,
      "metadata": {
        "collapsed": true,
        "id": "Z2OvgLw-Y16g"
      },
      "outputs": [],
      "source": []
    }
  ],
  "metadata": {
    "colab": {
      "provenance": []
    },
    "kernelspec": {
      "display_name": "Python [default]",
      "language": "python",
      "name": "python3"
    },
    "language_info": {
      "codemirror_mode": {
        "name": "ipython",
        "version": 3
      },
      "file_extension": ".py",
      "mimetype": "text/x-python",
      "name": "python",
      "nbconvert_exporter": "python",
      "pygments_lexer": "ipython3",
      "version": "3.5.4"
    }
  },
  "nbformat": 4,
  "nbformat_minor": 0
}